{
 "cells": [
  {
   "cell_type": "code",
   "execution_count": null,
   "metadata": {},
   "outputs": [],
   "source": [
    "import numpy as np\n",
    "import pandas as pd\n",
    "import matplotlib.pyplot as plt\n",
    "from datetime import datetime\n",
    "from numba import jit\n",
    "from numba import float64\n",
    "from numba import int64"
   ]
  },
  {
   "cell_type": "code",
   "execution_count": null,
   "metadata": {},
   "outputs": [],
   "source": [
    "data = pd.read_csv(r'C:\\Code Shit\\trade-20200802.csv')\n",
    "data = data.append(pd.read_csv(r'C:\\Code Shit\\trade-20200803.csv'))\n",
    "data = data.append(pd.read_csv(r'C:\\Code Shit\\trade-20200804.csv'))\n",
    "\n",
    "data = data[data.symbol =='XBTUSD']\n",
    "print(data.head())\n",
    "#time stamping\n",
    "data['timestamp'] = data.timestamp.map(lambda t: datetime.strptime(t[:-3], \"%Y-%m-%dD%H:%M:%S.%f\"))\n"
   ]
  },
  {
   "cell_type": "code",
   "execution_count": null,
   "metadata": {},
   "outputs": [],
   "source": [
    "#volume weighted average for 15 minute intervals\n",
    "def compute_vwap(df):\n",
    "    q = df['foreignNotional']\n",
    "    p = df['price']\n",
    "    vwap = np.sum(p * q) / np.sum(q)\n",
    "    df['vwap'] = vwap\n",
    "    return df\n",
    "\n",
    "\n",
    "data_timeidx = data.set_index('timestamp') #sets timestamp column as the index\n",
    "data_time_grp = data_timeidx.groupby(pd.Grouper(freq = '10Min')) # groupby rearanges the group on the terms of pd.Grouper which will group every 15 minutes, defaulting to the index\n",
    "num_time_bars = len(data_time_grp) # finds the number of bars based on the number of 15 minute intervals\n",
    "data_time_vwap = data_time_grp.apply(compute_vwap) # compputes the vwap using the new 15 min window   "
   ]
  },
  {
   "cell_type": "code",
   "execution_count": null,
   "metadata": {},
   "outputs": [],
   "source": [
    "# plotting vwap figures\n",
    "plt.figure(figsize = (13, 5))\n",
    "data_time_vwap['vwap'].plot()\n"
   ]
  },
  {
   "cell_type": "code",
   "execution_count": null,
   "metadata": {},
   "outputs": [],
   "source": [
    "# construct tick bars that will sample every n transactions\n",
    "total_ticks = len(data)\n",
    "num_ticks_per_bar = total_ticks / num_time_bars\n",
    "num_ticks_per_bar = round(num_ticks_per_bar, -3) # nearest thousandth\n",
    "data_tick_grp = data.reset_index().assign(grpId = lambda row: row.index // num_ticks_per_bar) #lambda function\n",
    "\n",
    "data_tick_vwap = data_tick_grp.groupby('grpId').apply(compute_vwap) #group by new index and compute vwap\n",
    "data_tick_vwap.set_index('timestamp', inplace = True)\n",
    "\n",
    "plt.figure(figsize = (13, 5))\n",
    "data_time_vwap['vwap'].plot()\n",
    "data_tick_vwap['vwap'].plot() #showing here, we can see a trading opportunity in the form of a flash crash just before market day 08-02"
   ]
  },
  {
   "cell_type": "code",
   "execution_count": null,
   "metadata": {},
   "outputs": [],
   "source": [
    "# Now construct Volume bars which will sample after n contracts\n",
    "data_cm_vol = data.assign(cmVol = data['homeNotional'].cumsum())\n",
    "total_vol = data_cm_vol.cmVol.values[-1]\n",
    "vol_per_bar = total_vol / num_time_bars\n",
    "vol_per_bar = round(vol_per_bar, -2)\n",
    "\n",
    "data_vol_grp = data_cm_vol.assign(grpId = lambda row: row.cmVol // vol_per_bar) #floor division \n",
    "\n",
    "data_vol_vwap = data_vol_grp.groupby('grpId').apply(compute_vwap)\n",
    "data_vol_vwap.set_index('timestamp', inplace = True)\n",
    "\n",
    "#plot the data\n",
    "plt.figure(figsize = (13, 5))\n",
    "data_time_vwap['vwap'].plot()\n",
    "data_vol_vwap['vwap'].plot()\n",
    "\n",
    "#show differences\n",
    "print(\"The peak achieved with volume barsticks is:\", data_vol_vwap['vwap'].max())\n",
    "print(\"The peak achieved with tick bars is:\", data_tick_vwap['vwap'].max())\n",
    "print(\"The min achieved with volume bars is :\", data_vol_vwap['vwap'].min())\n",
    "print(\"The min achieved with tick bars is:\", data_tick_vwap['vwap'].min())"
   ]
  },
  {
   "cell_type": "code",
   "execution_count": null,
   "metadata": {},
   "outputs": [],
   "source": [
    "#Constructing Dollar bars\n",
    "\n",
    "#create new colum cmDol and make it the cumulative sum of 'foreignNotional' propogating foward\n",
    "data_cm_dol = data.assign(cmDol = data['foreignNotional'].cumsum()) #price\n",
    "total_dol = data_cm_dol.cmDol.values[-1] \n",
    "dol_per_bar = total_dol / num_time_bars\n",
    "dol_per_bar = round(dol_per_bar, -2)\n",
    "\n",
    "data_dol_grp = data_cm_dol.assign(grpId = lambda row: row.cmDol // dol_per_bar) #floor division\n",
    "\n",
    "data_dol_vwap = data_dol_grp.groupby('grpId').apply(compute_vwap)\n",
    "data_dol_vwap.set_index('timestamp', inplace = True)\n",
    "\n",
    "#plot figures\n",
    "plt.figure(figsize = (13, 5))\n",
    "data_time_vwap['vwap'].plot()\n",
    "data_dol_vwap['vwap'].plot()\n",
    "\n",
    "#show differences\n",
    "print(\"The peak achieved with dollar barsticks is:\", data_dol_vwap['vwap'].max())\n",
    "print(\"The peak achieved with tick bars is:\", data_tick_vwap['vwap'].max())\n",
    "print(\"The min achieved with dollar bars is:\", data_dol_vwap['vwap'].min())\n",
    "print(\"The min achieved with tick bars is:\", data_tick_vwap['vwap'].min())"
   ]
  },
  {
   "cell_type": "code",
   "execution_count": null,
   "metadata": {},
   "outputs": [],
   "source": [
    "def determine_directions(directions):\n",
    "    if directions in ('PlusTick', 'ZeroPlusTick'):\n",
    "        return 1\n",
    "    elif directions in('MinusTick', 'ZeroMinusTick'):\n",
    "        return -1\n",
    "    else:\n",
    "        print(str(directions), \", not computable.\")"
   ]
  },
  {
   "cell_type": "code",
   "execution_count": null,
   "metadata": {},
   "outputs": [],
   "source": [
    "data_timeidx['tickDirection'] = data_timeidx.tickDirection.map(determine_directions);"
   ]
  },
  {
   "cell_type": "code",
   "execution_count": 24,
   "metadata": {},
   "outputs": [],
   "source": [
    "data_signed_flow = data_timeidx.assign(bv = data_timeidx.tickDirection * data_timeidx['size']);"
   ]
  },
  {
   "cell_type": "code",
   "execution_count": 25,
   "metadata": {},
   "outputs": [],
   "source": [
    "def ewma(arguments, window):\n",
    "    n = arguments.shape[0]\n",
    "    ewma = np.empty(n, dtype = np.float64)\n",
    "    alpha = 2 /  float(window+1) #smoothing multiplier\n",
    "    w = 1\n",
    "    ewma_old = arguments[0]\n",
    "    ewma[0] = ewma_old\n",
    "    for i in range(1,n):\n",
    "        w += (1- alpha)**i\n",
    "        ewma_old = ewma_old*(1 - alpha) + arguments[i]\n",
    "        ewma[i] = ewma_old/w\n",
    "    return ewma"
   ]
  },
  {
   "cell_type": "code",
   "execution_count": null,
   "metadata": {},
   "outputs": [],
   "source": [
    "abs_Ebv_init = np.abs(data_signed_flow['bv'].mean())\n",
    "E_T_init = 50000 #this is the number of ticks\n",
    "\n",
    "def compute_Ts(bvs, E_T_init, abs_Ebv_init):\n",
    "    Ts, i_s = [], []\n",
    "    i_prev, E_T, abs_Ebv = 0, E_T_init, abs_Ebv_init\n",
    "    \n",
    "    n = bvs.shape[0]\n",
    "    bvs_val = bvs.values.astype(np.float64)\n",
    "    abs_thetas, thresholds = np.zeros(n), np.zeros(n)\n",
    "    abs_thetas[0], cur_theta = np.abs(bvs_val[0]), bvs_val[0]\n",
    "    \n",
    "    for i in range(1, n):\n",
    "        cur_theta += bvs_val[i]\n",
    "        abs_theta = np.abs(cur_theta)\n",
    "        abs_thetas[i] = abs_theta\n",
    "        \n",
    "        threshold = E_T * abs_Ebv\n",
    "        thresholds[i] = threshold\n",
    "        \n",
    "        if abs_theta >= threshold:\n",
    "            cur_theta = 0\n",
    "            Ts.append(np.float64(i - i_prev))\n",
    "            i_s.append(i)\n",
    "            i_prev = i\n",
    "            E_T = ewma(np.array(Ts), window = np.int64(len(Ts)))[-1]\n",
    "            absEbv = np.abs( ewma(bvs_val[:i], window = np.int64(E_T_init * 3))[-1] ) #window of 3 bars\n",
    "    return Ts, abs_thetas, thresholds, i_s\n",
    "Ts, abs_thetas, thresholds, i_s = compute_Ts(data_signed_flow.bv, E_T_init, abs_Ebv_init)"
   ]
  },
  {
   "cell_type": "code",
   "execution_count": null,
   "metadata": {},
   "outputs": [],
   "source": [
    "data_signed_flow['bv'].head()"
   ]
  },
  {
   "cell_type": "code",
   "execution_count": null,
   "metadata": {},
   "outputs": [],
   "source": []
  },
  {
   "cell_type": "code",
   "execution_count": null,
   "metadata": {},
   "outputs": [],
   "source": []
  }
 ],
 "metadata": {
  "kernelspec": {
   "display_name": "Python 3",
   "language": "python",
   "name": "python3"
  },
  "language_info": {
   "codemirror_mode": {
    "name": "ipython",
    "version": 3
   },
   "file_extension": ".py",
   "mimetype": "text/x-python",
   "name": "python",
   "nbconvert_exporter": "python",
   "pygments_lexer": "ipython3",
   "version": "3.7.4"
  }
 },
 "nbformat": 4,
 "nbformat_minor": 2
}
